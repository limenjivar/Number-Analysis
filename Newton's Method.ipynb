{
 "cells": [
  {
   "cell_type": "markdown",
   "metadata": {},
   "source": [
    "### Newton's Method"
   ]
  },
  {
   "cell_type": "markdown",
   "metadata": {},
   "source": [
    "The Newton method is a root finding method which uses the idea of linear approximation to find the root for a given equation. Since this is an iterative method, we must first begin with an initial approximation."
   ]
  },
  {
   "cell_type": "code",
   "execution_count": 1,
   "metadata": {},
   "outputs": [],
   "source": [
    "#we have a given function\n",
    "f = lambda x:x**4 - 4*x +1"
   ]
  },
  {
   "cell_type": "code",
   "execution_count": 2,
   "metadata": {},
   "outputs": [],
   "source": [
    "#Derivative of the given function\n",
    "df = lambda x:4*x**3-4"
   ]
  },
  {
   "cell_type": "code",
   "execution_count": 3,
   "metadata": {},
   "outputs": [],
   "source": [
    "#initial condition at x0 = 0\n",
    "x0 = 0\n",
    "i = 0"
   ]
  },
  {
   "cell_type": "code",
   "execution_count": 4,
   "metadata": {},
   "outputs": [
    {
     "name": "stdout",
     "output_type": "stream",
     "text": [
      "Iteration 1 gives 0.25\n",
      "Iteration 2 gives 0.2509920634920635\n",
      "Iteration 3 gives 0.25099215749049003\n"
     ]
    }
   ],
   "source": [
    "for n in range(0,200):\n",
    "        x = x0 - (f(x0)/df(x0))\n",
    "        err1 = abs(x)\n",
    "        err2 = abs(x-x0)\n",
    "        i = i+1\n",
    "        if err1 >= 10**-8 and err2 >= 10**-8:\n",
    "            x0 = x\n",
    "            print('Iteration {} gives {}'.format(i,x))\n",
    "            if df(x0) == 0:\n",
    "                break"
   ]
  },
  {
   "cell_type": "code",
   "execution_count": null,
   "metadata": {},
   "outputs": [],
   "source": []
  }
 ],
 "metadata": {
  "kernelspec": {
   "display_name": "Python 3",
   "language": "python",
   "name": "python3"
  },
  "language_info": {
   "codemirror_mode": {
    "name": "ipython",
    "version": 3
   },
   "file_extension": ".py",
   "mimetype": "text/x-python",
   "name": "python",
   "nbconvert_exporter": "python",
   "pygments_lexer": "ipython3",
   "version": "3.6.4"
  }
 },
 "nbformat": 4,
 "nbformat_minor": 2
}
